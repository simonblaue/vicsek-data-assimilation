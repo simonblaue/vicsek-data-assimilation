{
 "cells": [
  {
   "cell_type": "code",
   "execution_count": 1,
   "metadata": {},
   "outputs": [],
   "source": [
    "import numpy as np"
   ]
  },
  {
   "cell_type": "code",
   "execution_count": 9,
   "metadata": {},
   "outputs": [],
   "source": [
    "x_axis = 10\n",
    "y_axis = 10\n",
    "N = 50\n",
    "forecast_ensemble = np.random.rand(N,300,3)"
   ]
  },
  {
   "cell_type": "code",
   "execution_count": 10,
   "metadata": {},
   "outputs": [],
   "source": [
    "mean_forecast = np.mean(forecast_ensemble, axis = 0)\n",
    "        \n",
    "errors = np.array([f-mean_forecast for f in forecast_ensemble])\n",
    "\n",
    "#boundaries \n",
    "errors[:,:,0] = np.where(errors[:,:,0]>x_axis/2,\n",
    "                         errors[:,:,0]-x_axis,\n",
    "                         errors[:,:,0])\n",
    "errors[:,:,0] = np.where(errors[:,:,0]<-x_axis/2,errors[:,:,0]+x_axis,errors[:,:,0])\n",
    "\n",
    "errors[:,:,1] = np.where(errors[:,:,1]>y_axis/2,errors[:,:,1]-y_axis,errors[:,:,1])\n",
    "errors[:,:,1] = np.where(errors[:,:,1]<-y_axis/2,errors[:,:,1]+y_axis,errors[:,:,1])\n",
    "\n",
    "# print(errors)\n",
    "pf = 1/(N-1) * np.sum(\n",
    "    [e @ e.T for e in errors],\n",
    "    axis = 0\n",
    ")"
   ]
  },
  {
   "cell_type": "code",
   "execution_count": 13,
   "metadata": {},
   "outputs": [
    {
     "data": {
      "text/plain": [
       "(50, 300, 3)"
      ]
     },
     "execution_count": 13,
     "metadata": {},
     "output_type": "execute_result"
    }
   ],
   "source": [
    "forecast_ensemble.shape"
   ]
  },
  {
   "cell_type": "code",
   "execution_count": 12,
   "metadata": {},
   "outputs": [
    {
     "data": {
      "text/plain": [
       "(300, 300)"
      ]
     },
     "execution_count": 12,
     "metadata": {},
     "output_type": "execute_result"
    }
   ],
   "source": [
    "pf.shape"
   ]
  },
  {
   "cell_type": "code",
   "execution_count": 39,
   "metadata": {},
   "outputs": [
    {
     "data": {
      "text/plain": [
       "(50, 300, 3)"
      ]
     },
     "execution_count": 39,
     "metadata": {},
     "output_type": "execute_result"
    }
   ],
   "source": [
    "errors.shape"
   ]
  },
  {
   "cell_type": "code",
   "execution_count": 18,
   "metadata": {},
   "outputs": [
    {
     "data": {
      "text/plain": [
       "array([[ 0.2361641 ,  0.01582478, -0.02178967, ...,  0.00926534,\n",
       "         0.01542875, -0.01064366],\n",
       "       [ 0.01582478,  0.25177474, -0.04350765, ...,  0.01565993,\n",
       "         0.01185858, -0.00326681],\n",
       "       [-0.02178967, -0.04350765,  0.2616348 , ..., -0.01214141,\n",
       "         0.01643536,  0.02467789],\n",
       "       ...,\n",
       "       [ 0.00926534,  0.01565993, -0.01214141, ...,  0.23618423,\n",
       "         0.00403728,  0.0270312 ],\n",
       "       [ 0.01542875,  0.01185858,  0.01643536, ...,  0.00403728,\n",
       "         0.25326865,  0.02814887],\n",
       "       [-0.01064366, -0.00326681,  0.02467789, ...,  0.0270312 ,\n",
       "         0.02814887,  0.23751103]])"
      ]
     },
     "execution_count": 18,
     "metadata": {},
     "output_type": "execute_result"
    }
   ],
   "source": [
    "pf"
   ]
  },
  {
   "cell_type": "code",
   "execution_count": null,
   "metadata": {},
   "outputs": [],
   "source": []
  }
 ],
 "metadata": {
  "kernelspec": {
   "display_name": "base",
   "language": "python",
   "name": "python3"
  },
  "language_info": {
   "codemirror_mode": {
    "name": "ipython",
    "version": 3
   },
   "file_extension": ".py",
   "mimetype": "text/x-python",
   "name": "python",
   "nbconvert_exporter": "python",
   "pygments_lexer": "ipython3",
   "version": "3.9.13"
  },
  "orig_nbformat": 4,
  "vscode": {
   "interpreter": {
    "hash": "e7cb1b9ae4d417fedf7f40a8eec98f7cfbd359e096bd857395a915f4609834ce"
   }
  }
 },
 "nbformat": 4,
 "nbformat_minor": 2
}
