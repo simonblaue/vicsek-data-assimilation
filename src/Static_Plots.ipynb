{
 "cells": [
  {
   "cell_type": "code",
   "execution_count": 1,
   "id": "887a7cff",
   "metadata": {},
   "outputs": [],
   "source": [
    "import matplotlib.pyplot as plt\n",
    "import matplotlib.gridspec as gridspec\n",
    "import numpy as np\n",
    "import json"
   ]
  },
  {
   "cell_type": "code",
   "execution_count": 2,
   "id": "baa02797",
   "metadata": {},
   "outputs": [
    {
     "data": {
      "text/plain": [
       "(50, 50, 3)"
      ]
     },
     "execution_count": 2,
     "metadata": {},
     "output_type": "execute_result"
    }
   ],
   "source": [
    "agents = np.load(\"/Users/simonblaue/ownCloud/Master/NLDHO/vicsek-data-assimilation/saves/Baseline/1_filter.npy\")\n",
    "agents.shape"
   ]
  },
  {
   "cell_type": "code",
   "execution_count": 29,
   "id": "0667fbb9",
   "metadata": {},
   "outputs": [],
   "source": [
    "experiment = 'Baseline'"
   ]
  },
  {
   "cell_type": "code",
   "execution_count": 54,
   "id": "b6cf7a22",
   "metadata": {},
   "outputs": [],
   "source": [
    "def get_params_metrics(experiment):\n",
    "    basepath = f'./saves/{experiment}'\n",
    "    \n",
    "    with open(f'{basepath}/params.json') as paramfile:\n",
    "        params = json.load(paramfile)\n",
    "\n",
    "    with open(f'{basepath}/metrics.json') as metricfile:\n",
    "        metrics = json.load(metricfile)\n",
    "        \n",
    "    return params,metrics\n",
    "\n",
    "def plot_metric(ax,experiment,metric='Average Hungarian Precision',legend=True):\n",
    "    p,m = get_params_metrics(experiment)\n",
    "    \n",
    "    x = np.arange(0,round(p['steps']/p['timestepsize']),p['sampling_rate']*p['timestepsize'])\n",
    "    y = m[metric]\n",
    "    \n",
    "    label = f\"Ensembles={p['ensembles']}\"\n",
    "    \n",
    "    ax.plot(x,y,label=label)\n",
    "    ax.set_xlabel('Time')\n",
    "    \n",
    "    if legend:\n",
    "        ax.legend()\n",
    "    \n",
    "    return None\n"
   ]
  },
  {
   "cell_type": "code",
   "execution_count": 56,
   "id": "9ac8cd20",
   "metadata": {},
   "outputs": [
    {
     "data": {
      "image/png": "[encoded data removed]",
      "text/plain": [
       "<Figure size 576x432 with 2 Axes>"
      ]
     },
     "metadata": {
      "needs_background": "light"
     },
     "output_type": "display_data"
    }
   ],
   "source": [
    "fig = plt.figure(figsize=(8,6))\n",
    "\n",
    "gs = gridspec.GridSpec(nrows=2, ncols=1, bottom=0.6, hspace=0.7)\n",
    "\n",
    "axs = [0]*2\n",
    "\n",
    "axs[0] = fig.add_subplot(gs[0])\n",
    "axs[1] = fig.add_subplot(gs[1])\n",
    "\n",
    "plot_metric(axs[0],experiment)\n",
    "plot_metric(axs[1],experiment,'Average LPP',legend=False)"
   ]
  },
  {
   "cell_type": "code",
   "execution_count": 13,
   "id": "29be0d99",
   "metadata": {},
   "outputs": [
    {
     "data": {
      "text/plain": [
       "{'name': 'Baseline',\n",
       " 'seeds': [1, 2],\n",
       " 'steps': 100,\n",
       " 'timestepsize': 1,\n",
       " 'particles': 100,\n",
       " 'ensembles': 50,\n",
       " 'observation_noise': 0.0001,\n",
       " 'viscec_noise': 0.5,\n",
       " 'xi': 0.8,\n",
       " 'velocities': [0.03],\n",
       " 'sampling_rate': 2,\n",
       " 'alignment_radius': 1.0,\n",
       " 'observable_axis': [True, True, False],\n",
       " 'x_axis': 10,\n",
       " 'y_axis': 10,\n",
       " 'total_runtime': 11.042553901672363}"
      ]
     },
     "execution_count": 13,
     "metadata": {},
     "output_type": "execute_result"
    }
   ],
   "source": [
    "params"
   ]
  }
 ],
 "metadata": {
  "kernelspec": {
   "display_name": "base",
   "language": "python",
   "name": "python3"
  },
  "language_info": {
   "codemirror_mode": {
    "name": "ipython",
    "version": 3
   },
   "file_extension": ".py",
   "mimetype": "text/x-python",
   "name": "python",
   "nbconvert_exporter": "python",
   "pygments_lexer": "ipython3",
   "version": "3.9.13"
  }
 },
 "nbformat": 4,
 "nbformat_minor": 5
}
