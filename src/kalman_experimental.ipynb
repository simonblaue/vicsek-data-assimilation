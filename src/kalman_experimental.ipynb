{
 "cells": [
  {
   "cell_type": "code",
   "execution_count": 85,
   "metadata": {},
   "outputs": [
    {
     "name": "stdout",
     "output_type": "stream",
     "text": [
      "(300, 300)\n",
      "0.6061577796936035\n"
     ]
    }
   ],
   "source": [
    "import numpy as np\n",
    "import time\n",
    "\n",
    "y1 = np.array([np.random.rand(300, 3) for _ in range(500)])\n",
    "y2 = np.array([x.T for x in y1])\n",
    "squarer = lambda x: np.matmul(x, x.T)\n",
    "t = time.time()\n",
    "# z = 1/(500-1)*np.sum(list(map(squarer, y1)), axis=0)\n",
    "z = 1/(500-1)*np.sum([np.matmul(e, e.T) for e in y1], axis=0)\n",
    "print(np.shape(z))\n",
    "print(time.time()-t)"
   ]
  },
  {
   "cell_type": "code",
   "execution_count": 87,
   "metadata": {},
   "outputs": [
    {
     "name": "stdout",
     "output_type": "stream",
     "text": [
      "(500, 3, 300)\n",
      "(300, 300)\n",
      "0.0\n"
     ]
    }
   ],
   "source": [
    "print(y2.shape)\n",
    "c = 1/(500-1)*np.sum(np.matmul(y1, y2), axis=0)\n",
    "print(c.shape)\n",
    "print(np.mean(np.abs(z-c)))"
   ]
  },
  {
   "cell_type": "code",
   "execution_count": 95,
   "metadata": {},
   "outputs": [
    {
     "name": "stdout",
     "output_type": "stream",
     "text": [
      "0.8420624732971191\n"
     ]
    }
   ],
   "source": [
    "t = time.time()\n",
    "c = 1/(500-1)*np.sum(y1 @ y2, axis=0)\n",
    "print(time.time()-t)"
   ]
  },
  {
   "cell_type": "code",
   "execution_count": 35,
   "metadata": {},
   "outputs": [
    {
     "data": {
      "text/plain": [
       "(300, 3)"
      ]
     },
     "execution_count": 35,
     "metadata": {},
     "output_type": "execute_result"
    }
   ],
   "source": [
    "x = np.random.normal(size=(300, 3), scale=r)\n",
    "x.shape"
   ]
  },
  {
   "cell_type": "code",
   "execution_count": 23,
   "metadata": {},
   "outputs": [
    {
     "data": {
      "text/plain": [
       "(5, 300, 3)"
      ]
     },
     "execution_count": 23,
     "metadata": {},
     "output_type": "execute_result"
    }
   ],
   "source": [
    "np.array(forecast_ensemble).shape"
   ]
  },
  {
   "cell_type": "code",
   "execution_count": 24,
   "metadata": {},
   "outputs": [],
   "source": [
    "mean_forecast = np.mean(forecast_ensemble, axis = 0)\n",
    "mean_forecast.shape\n",
    "errors = [f-mean_forecast for f in forecast_ensemble]"
   ]
  },
  {
   "cell_type": "code",
   "execution_count": 25,
   "metadata": {},
   "outputs": [
    {
     "data": {
      "text/plain": [
       "(300, 300)"
      ]
     },
     "execution_count": 25,
     "metadata": {},
     "output_type": "execute_result"
    }
   ],
   "source": [
    "pf = 1/(N-1) * np.sum(\n",
    "    [e @ e.T for e in errors],\n",
    "    axis = 0\n",
    ")\n",
    "pf.shape"
   ]
  },
  {
   "cell_type": "code",
   "execution_count": 26,
   "metadata": {},
   "outputs": [],
   "source": [
    "R = np.diag(np.ones(RandomSimulationConfig.n_particles))*r"
   ]
  },
  {
   "cell_type": "code",
   "execution_count": 29,
   "metadata": {},
   "outputs": [
    {
     "data": {
      "text/plain": [
       "(300, 300)"
      ]
     },
     "execution_count": 29,
     "metadata": {},
     "output_type": "execute_result"
    }
   ],
   "source": [
    "K = pf*np.linalg.inv(pf+R)\n",
    "K.shape"
   ]
  },
  {
   "cell_type": "code",
   "execution_count": 30,
   "metadata": {},
   "outputs": [],
   "source": [
    "ensemble_update = [\n",
    "    x + K @ (z-x) for x, z in zip(forecast_ensemble, virtual_observations)\n",
    "]"
   ]
  },
  {
   "cell_type": "code",
   "execution_count": 33,
   "metadata": {},
   "outputs": [
    {
     "data": {
      "text/plain": [
       "(300, 3)"
      ]
     },
     "execution_count": 33,
     "metadata": {},
     "output_type": "execute_result"
    }
   ],
   "source": [
    "new_state = np.mean(ensemble_update, axis = 0)\n",
    "new_state.shape"
   ]
  },
  {
   "cell_type": "code",
   "execution_count": 3,
   "metadata": {},
   "outputs": [
    {
     "data": {
      "image/png": "[encoded data removed]",
      "text/plain": [
       "<Figure size 432x288 with 3 Axes>"
      ]
     },
     "metadata": {
      "needs_background": "light"
     },
     "output_type": "display_data"
    }
   ],
   "source": [
    "import matplotlib.pyplot as plt\n",
    "import matplotlib.gridspec as gridspec\n",
    "\n",
    "fig = plt.figure(figsize=(6,4))\n",
    "\n",
    "gst = gridspec.GridSpec(nrows=1, ncols=2, bottom=0.6, wspace=0.5)\n",
    "gsb = gridspec.GridSpec(nrows=1, ncols=1, top=0.4)\n",
    "\n",
    "axst=[0]*2\n",
    "axsb=[0]\n",
    "\n",
    "axst[0] = fig.add_subplot(gst[0])\n",
    "axst[1] = fig.add_subplot(gst[1])\n",
    "\n",
    "axsb[0] = fig.add_subplot(gsb[0])"
   ]
  },
  {
   "cell_type": "code",
   "execution_count": 12,
   "metadata": {},
   "outputs": [
    {
     "data": {
      "image/png": "[encoded data removed]",
      "text/plain": [
       "<Figure size 432x288 with 3 Axes>"
      ]
     },
     "metadata": {
      "needs_background": "light"
     },
     "output_type": "display_data"
    }
   ],
   "source": [
    "fig = plt.figure(figsize=(6,4))\n",
    "\n",
    "gs = gridspec.GridSpec(nrows=2, ncols=2, wspace=0.5,hspace=0.6)\n",
    "\n",
    "axs = [0]*3\n",
    "\n",
    "axs[0]=fig.add_subplot(gs[0,0])\n",
    "axs[1]=fig.add_subplot(gs[0,1])\n",
    "axs[2]=fig.add_subplot(gs[1,:])\n",
    "\n"
   ]
  }
 ],
 "metadata": {
  "kernelspec": {
   "display_name": "Python 3 (ipykernel)",
   "language": "python",
   "name": "python3"
  },
  "language_info": {
   "codemirror_mode": {
    "name": "ipython",
    "version": 3
   },
   "file_extension": ".py",
   "mimetype": "text/x-python",
   "name": "python",
   "nbconvert_exporter": "python",
   "pygments_lexer": "ipython3",
   "version": "3.9.7"
  },
  "vscode": {
   "interpreter": {
    "hash": "916dbcbb3f70747c44a77c7bcd40155683ae19c65e1c03b4aa3499c5328201f1"
   }
  }
 },
 "nbformat": 4,
 "nbformat_minor": 2
}
