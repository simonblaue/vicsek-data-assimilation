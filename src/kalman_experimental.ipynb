{
 "cells": [
  {
   "cell_type": "code",
   "execution_count": 21,
   "metadata": {},
   "outputs": [],
   "source": [
    "from vicsek import RandomSimulationConfig\n",
    "import numpy as np\n",
    "viscec = RandomSimulationConfig.exec_ref(RandomSimulationConfig)\n",
    "\n",
    "viscec.step()\n",
    "\n",
    "state0 = viscec.walkers\n",
    "\n",
    "N = 5 # ensemble size\n",
    "r = 1"
   ]
  },
  {
   "cell_type": "code",
   "execution_count": 22,
   "metadata": {},
   "outputs": [],
   "source": [
    "forecast_ensemble = [viscec._step(state0) for _ in range(N)]\n",
    "measurement = viscec.step()\n",
    "\n",
    "measurement_ensemble = np.array([measurement for _ in range(N)])\n",
    "noise = np.random.randn(RandomSimulationConfig.n_particles, 3)*r\n",
    "virtual_observations = measurement_ensemble+noise"
   ]
  },
  {
   "cell_type": "code",
   "execution_count": 23,
   "metadata": {},
   "outputs": [
    {
     "data": {
      "text/plain": [
       "(5, 300, 3)"
      ]
     },
     "execution_count": 23,
     "metadata": {},
     "output_type": "execute_result"
    }
   ],
   "source": [
    "np.array(forecast_ensemble).shape"
   ]
  },
  {
   "cell_type": "code",
   "execution_count": 24,
   "metadata": {},
   "outputs": [],
   "source": [
    "mean_forecast = np.mean(forecast_ensemble, axis = 0)\n",
    "mean_forecast.shape\n",
    "errors = [f-mean_forecast for f in forecast_ensemble]"
   ]
  },
  {
   "cell_type": "code",
   "execution_count": 25,
   "metadata": {},
   "outputs": [
    {
     "data": {
      "text/plain": [
       "(300, 300)"
      ]
     },
     "execution_count": 25,
     "metadata": {},
     "output_type": "execute_result"
    }
   ],
   "source": [
    "pf = 1/(N-1) * np.sum(\n",
    "    [e @ e.T for e in errors],\n",
    "    axis = 0\n",
    ")\n",
    "pf.shape"
   ]
  },
  {
   "cell_type": "code",
   "execution_count": 26,
   "metadata": {},
   "outputs": [],
   "source": [
    "R = np.diag(np.ones(RandomSimulationConfig.n_particles))*r"
   ]
  },
  {
   "cell_type": "code",
   "execution_count": 29,
   "metadata": {},
   "outputs": [
    {
     "data": {
      "text/plain": [
       "(300, 300)"
      ]
     },
     "execution_count": 29,
     "metadata": {},
     "output_type": "execute_result"
    }
   ],
   "source": [
    "K = pf*np.linalg.inv(pf+R)\n",
    "K.shape"
   ]
  },
  {
   "cell_type": "code",
   "execution_count": 30,
   "metadata": {},
   "outputs": [],
   "source": [
    "ensemble_update = [\n",
    "    x + K @ (z-x) for x, z in zip(forecast_ensemble, virtual_observations)\n",
    "]"
   ]
  },
  {
   "cell_type": "code",
   "execution_count": 33,
   "metadata": {},
   "outputs": [
    {
     "data": {
      "text/plain": [
       "(300, 3)"
      ]
     },
     "execution_count": 33,
     "metadata": {},
     "output_type": "execute_result"
    }
   ],
   "source": [
    "new_state = np.mean(ensemble_update, axis = 0)\n",
    "new_state.shape"
   ]
  }
 ],
 "metadata": {
  "kernelspec": {
   "display_name": "Python 3",
   "language": "python",
   "name": "python3"
  },
  "language_info": {
   "codemirror_mode": {
    "name": "ipython",
    "version": 3
   },
   "file_extension": ".py",
   "mimetype": "text/x-python",
   "name": "python",
   "nbconvert_exporter": "python",
   "pygments_lexer": "ipython3",
   "version": "3.10.6"
  },
  "orig_nbformat": 4,
  "vscode": {
   "interpreter": {
    "hash": "916dbcbb3f70747c44a77c7bcd40155683ae19c65e1c03b4aa3499c5328201f1"
   }
  }
 },
 "nbformat": 4,
 "nbformat_minor": 2
}
