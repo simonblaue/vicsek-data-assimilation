{
 "cells": [
  {
   "cell_type": "code",
   "execution_count": 17,
   "metadata": {},
   "outputs": [],
   "source": [
    "import numpy as np\n",
    "import matplotlib.pyplot as plt"
   ]
  },
  {
   "cell_type": "code",
   "execution_count": 25,
   "metadata": {},
   "outputs": [],
   "source": [
    "n_ensemble = 200\n",
    "x_size = 10\n",
    "y_size = 10\n",
    "ensemble = np.random.rand(n_ensemble,361,4)\n",
    "ensemble[:,:,0:2] *= x_size/4\n",
    "ensemble[:,:,0:2] -= x_size/8\n",
    "ensemble[:,:,0:2] = np.mod(ensemble[:,:,0:2], 10)\n",
    "ensemble[:,:,2] = 0.03\n",
    "ensemble[:,:,3] *= np.pi*2\n"
   ]
  },
  {
   "cell_type": "code",
   "execution_count": 26,
   "metadata": {},
   "outputs": [],
   "source": [
    "def periodic_distant_vectors(vectors, x_size, y_size):\n",
    "    \n",
    "    vectors[:,:,0] = np.where(vectors[:,:,0]>x_size/2,vectors[:,:,0]-x_size,vectors[:,:,0])\n",
    "    vectors[:,:,0] = np.where(vectors[:,:,0]<-x_size/2,vectors[:,:,0]+x_size,vectors[:,:,0])\n",
    "    vectors[:,:,1] = np.where(vectors[:,:,1]>y_size/2,vectors[:,:,1]-y_size,vectors[:,:,1])\n",
    "    vectors[:,:,1] = np.where(vectors[:,:,1]<-y_size/2,vectors[:,:,1]+y_size,vectors[:,:,1])\n",
    "    \n",
    "    return vectors"
   ]
  },
  {
   "cell_type": "code",
   "execution_count": 32,
   "metadata": {},
   "outputs": [],
   "source": [
    "p1 = ensemble[0,:,:]\n",
    "\n",
    "dists = ensemble - p1\n",
    "\n",
    "# apply pbc to dist\n",
    "dists[:,:,0:2] = periodic_distant_vectors(dists[:,:,0:2], x_size,y_size)\n",
    "\n",
    "#dists[:,:,0:2] = np.mod(dists[:,:,0:2], x_size)\n",
    "dists[:,:,3] = np.mod(dists[:,:,3], 2*np.pi)\n",
    "\n",
    "average = p1 + 1/(n_ensemble-1) * np.sum(dists,axis=0)\n",
    "\n",
    "average[:,0] = np.mod(average[:,0], x_size)\n",
    "average[:,1] = np.mod(average[:,1], y_size)"
   ]
  },
  {
   "cell_type": "code",
   "execution_count": 33,
   "metadata": {},
   "outputs": [
    {
     "data": {
      "text/plain": [
       "(200, 361, 4)"
      ]
     },
     "execution_count": 33,
     "metadata": {},
     "output_type": "execute_result"
    }
   ],
   "source": [
    "dists.shape"
   ]
  },
  {
   "cell_type": "code",
   "execution_count": 34,
   "metadata": {},
   "outputs": [
    {
     "data": {
      "text/plain": [
       "(361, 4)"
      ]
     },
     "execution_count": 34,
     "metadata": {},
     "output_type": "execute_result"
    }
   ],
   "source": [
    "average.shape"
   ]
  },
  {
   "cell_type": "code",
   "execution_count": 35,
   "metadata": {},
   "outputs": [],
   "source": [
    "simple_av = np.mean(ensemble, axis=0)\n"
   ]
  },
  {
   "cell_type": "code",
   "execution_count": 36,
   "metadata": {},
   "outputs": [
    {
     "data": {
      "image/png": "[encoded data removed]",
      "text/plain": [
       "<Figure size 432x288 with 1 Axes>"
      ]
     },
     "metadata": {
      "needs_background": "light"
     },
     "output_type": "display_data"
    }
   ],
   "source": [
    "plt.figure()\n",
    "\n",
    "plt.vlines([0,x_size], 0, y_size, colors='black')\n",
    "plt.hlines([0,y_size], 0, x_size, colors='black')\n",
    "plt.scatter(ensemble[:,0,0],ensemble[:,0,1])\n",
    "plt.scatter(average[0,0], average[0,1], label=\"new_av\")\n",
    "plt.scatter(simple_av[0,0], simple_av[0,1])\n",
    "\n",
    "plt.legend()\n",
    "plt.show()"
   ]
  },
  {
   "cell_type": "code",
   "execution_count": null,
   "metadata": {},
   "outputs": [],
   "source": []
  }
 ],
 "metadata": {
  "kernelspec": {
   "display_name": "base",
   "language": "python",
   "name": "python3"
  },
  "language_info": {
   "codemirror_mode": {
    "name": "ipython",
    "version": 3
   },
   "file_extension": ".py",
   "mimetype": "text/x-python",
   "name": "python",
   "nbconvert_exporter": "python",
   "pygments_lexer": "ipython3",
   "version": "3.9.7"
  },
  "orig_nbformat": 4
 },
 "nbformat": 4,
 "nbformat_minor": 2
}
