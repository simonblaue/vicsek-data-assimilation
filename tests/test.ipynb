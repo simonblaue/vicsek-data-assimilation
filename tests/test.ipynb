{
 "cells": [
  {
   "cell_type": "code",
   "execution_count": 1,
   "metadata": {},
   "outputs": [],
   "source": [
    "from generate import execute_experiment\n",
    "import numpy as np"
   ]
  },
  {
   "cell_type": "code",
   "execution_count": 2,
   "metadata": {},
   "outputs": [],
   "source": [
    "base_parameters = {\n",
    "        'name': 'Baseline',\n",
    "        'seeds': [np.random.randint(1,5)],\n",
    "        'steps': 300,\n",
    "        'timestepsize': 1,\n",
    "        'n_particles': 50,\n",
    "        'n_ensembles': 100,\n",
    "        'observation_noise': 0.1,\n",
    "        'alignment_strength':0.05,\n",
    "        'noisestrength': 0.15,\n",
    "        'velocity': 0.05,\n",
    "        'sampling_rate': 1,\n",
    "        'alignment_radius': 1,\n",
    "        'observable_axis': (True,True,True,True),\n",
    "        'box_size': 10,\n",
    "        'shuffle_measurements': False,\n",
    "        'ensemble_pos_noise' : 0.03,\n",
    "        'ensemble_theta_noise': 0.2,\n",
    "        }"
   ]
  },
  {
   "cell_type": "code",
   "execution_count": 3,
   "metadata": {},
   "outputs": [
    {
     "data": {
      "application/vnd.jupyter.widget-view+json": {
       "model_id": "80da7a88f70e4da784c3f2648ad9cc79",
       "version_major": 2,
       "version_minor": 0
      },
      "text/plain": [
       "  0%|          | 0/300 [00:00<?, ?it/s]"
      ]
     },
     "metadata": {},
     "output_type": "display_data"
    }
   ],
   "source": [
    "execute_experiment(base_parameters)"
   ]
  },
  {
   "cell_type": "code",
   "execution_count": null,
   "metadata": {},
   "outputs": [],
   "source": []
  }
 ],
 "metadata": {
  "kernelspec": {
   "display_name": "base",
   "language": "python",
   "name": "python3"
  },
  "language_info": {
   "codemirror_mode": {
    "name": "ipython",
    "version": 3
   },
   "file_extension": ".py",
   "mimetype": "text/x-python",
   "name": "python",
   "nbconvert_exporter": "python",
   "pygments_lexer": "ipython3",
   "version": "3.9.16"
  },
  "orig_nbformat": 4
 },
 "nbformat": 4,
 "nbformat_minor": 2
}
