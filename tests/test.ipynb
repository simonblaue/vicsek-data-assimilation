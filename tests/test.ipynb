{
 "cells": [
  {
   "cell_type": "code",
   "execution_count": 1,
   "metadata": {},
   "outputs": [],
   "source": [
    "import numpy as np\n",
    "import matplotlib.pyplot as plt"
   ]
  },
  {
   "cell_type": "code",
   "execution_count": 10,
   "metadata": {},
   "outputs": [
    {
     "data": {
      "text/plain": [
       "array([[[83, 91, 99, 25],\n",
       "        [29, 10, 82, 89],\n",
       "        [10, 19, 91, 58],\n",
       "        [93, 61, 50, 26],\n",
       "        [ 2, 96, 74, 98]],\n",
       "\n",
       "       [[84,  8, 97, 51],\n",
       "        [42, 44,  3, 90],\n",
       "        [80, 98, 73, 98],\n",
       "        [19, 33, 20, 47],\n",
       "        [39, 16, 48, 62]],\n",
       "\n",
       "       [[74, 16, 76, 47],\n",
       "        [11, 82, 29, 85],\n",
       "        [23, 44, 67, 25],\n",
       "        [33, 81, 51, 18],\n",
       "        [ 9, 46, 51, 78]],\n",
       "\n",
       "       [[ 5, 61, 52, 23],\n",
       "        [14, 62, 14, 26],\n",
       "        [23, 69, 12, 85],\n",
       "        [92, 68, 49, 20],\n",
       "        [24, 95, 10,  7]],\n",
       "\n",
       "       [[68, 48, 42, 35],\n",
       "        [76, 52, 13, 79],\n",
       "        [86, 24, 83, 54],\n",
       "        [14,  2, 13, 59],\n",
       "        [84, 66, 45, 89]],\n",
       "\n",
       "       [[53,  6, 38,  4],\n",
       "        [53, 15, 96, 75],\n",
       "        [82, 97, 14, 97],\n",
       "        [87, 37,  9, 16],\n",
       "        [68, 80, 31, 95]],\n",
       "\n",
       "       [[ 0, 61, 74, 64],\n",
       "        [65, 82, 52,  3],\n",
       "        [48, 83, 46, 68],\n",
       "        [14, 31,  5, 98],\n",
       "        [86, 84, 62, 54]],\n",
       "\n",
       "       [[87, 87, 12, 97],\n",
       "        [54, 57, 48, 40],\n",
       "        [92, 69, 47,  2],\n",
       "        [55, 20, 43, 40],\n",
       "        [73, 78, 50, 53]],\n",
       "\n",
       "       [[99, 71, 78, 57],\n",
       "        [23, 21, 42, 91],\n",
       "        [ 0, 41, 25,  8],\n",
       "        [89, 96, 85, 72],\n",
       "        [51,  1, 70, 55]],\n",
       "\n",
       "       [[ 6, 64, 10, 99],\n",
       "        [91, 32, 86, 35],\n",
       "        [37,  9, 36, 56],\n",
       "        [97, 99, 15, 85],\n",
       "        [54, 47, 77,  7]]])"
      ]
     },
     "execution_count": 10,
     "metadata": {},
     "output_type": "execute_result"
    }
   ],
   "source": [
    "A = np.random.randint(0,100, size=(10,5,4))\n",
    "A"
   ]
  },
  {
   "cell_type": "code",
   "execution_count": 7,
   "metadata": {},
   "outputs": [
    {
     "data": {
      "text/plain": [
       "array([[ 0,  0,  0,  0,  0,  0,  0,  0],\n",
       "       [ 0,  1,  2,  3,  4,  5,  6,  7],\n",
       "       [ 0,  2,  4,  6,  8, 10, 12, 14],\n",
       "       [ 0,  3,  6,  9, 12, 15, 18, 21],\n",
       "       [ 0,  4,  8, 12, 16, 20, 24, 28]])"
      ]
     },
     "execution_count": 7,
     "metadata": {},
     "output_type": "execute_result"
    }
   ],
   "source": [
    "A.flatten().reshape(5,8)"
   ]
  },
  {
   "cell_type": "code",
   "execution_count": 37,
   "metadata": {},
   "outputs": [],
   "source": [
    "N_particles = 20"
   ]
  },
  {
   "cell_type": "code",
   "execution_count": 38,
   "metadata": {},
   "outputs": [
    {
     "data": {
      "text/plain": [
       "array([[ 0,  1,  2],\n",
       "       [ 3,  4,  5],\n",
       "       [ 6,  7,  8],\n",
       "       [ 9, 10, 11],\n",
       "       [12, 13, 14],\n",
       "       [15, 16, 17],\n",
       "       [18, 19, 20],\n",
       "       [21, 22, 23],\n",
       "       [24, 25, 26],\n",
       "       [27, 28, 29],\n",
       "       [30, 31, 32],\n",
       "       [33, 34, 35],\n",
       "       [36, 37, 38],\n",
       "       [39, 40, 41],\n",
       "       [42, 43, 44],\n",
       "       [45, 46, 47],\n",
       "       [48, 49, 50],\n",
       "       [51, 52, 53],\n",
       "       [54, 55, 56],\n",
       "       [57, 58, 59]])"
      ]
     },
     "execution_count": 38,
     "metadata": {},
     "output_type": "execute_result"
    }
   ],
   "source": [
    "A = np.array([i for i in range(60)]).reshape(N_particles,3)\n",
    "\n",
    "A"
   ]
  },
  {
   "cell_type": "code",
   "execution_count": 39,
   "metadata": {},
   "outputs": [
    {
     "data": {
      "text/plain": [
       "[2]"
      ]
     },
     "execution_count": 39,
     "metadata": {},
     "output_type": "execute_result"
    }
   ],
   "source": [
    "where_list = [i for i,m in enumerate((True,True,False,True)) if not m]\n",
    "where_list"
   ]
  },
  {
   "cell_type": "code",
   "execution_count": 40,
   "metadata": {},
   "outputs": [],
   "source": [
    "for i,m in enumerate(where_list):\n",
    "    if m > A.shape[1]:\n",
    "        where_list[i] = A.shape[1]"
   ]
  },
  {
   "cell_type": "code",
   "execution_count": 41,
   "metadata": {},
   "outputs": [
    {
     "data": {
      "text/plain": [
       "[2]"
      ]
     },
     "execution_count": 41,
     "metadata": {},
     "output_type": "execute_result"
    }
   ],
   "source": [
    "where_list"
   ]
  },
  {
   "cell_type": "code",
   "execution_count": 42,
   "metadata": {},
   "outputs": [
    {
     "data": {
      "text/plain": [
       "array([[ 0,  1,  0,  2],\n",
       "       [ 3,  4,  0,  5],\n",
       "       [ 6,  7,  0,  8],\n",
       "       [ 9, 10,  0, 11],\n",
       "       [12, 13,  0, 14],\n",
       "       [15, 16,  0, 17],\n",
       "       [18, 19,  0, 20],\n",
       "       [21, 22,  0, 23],\n",
       "       [24, 25,  0, 26],\n",
       "       [27, 28,  0, 29],\n",
       "       [30, 31,  0, 32],\n",
       "       [33, 34,  0, 35],\n",
       "       [36, 37,  0, 38],\n",
       "       [39, 40,  0, 41],\n",
       "       [42, 43,  0, 44],\n",
       "       [45, 46,  0, 47],\n",
       "       [48, 49,  0, 50],\n",
       "       [51, 52,  0, 53],\n",
       "       [54, 55,  0, 56],\n",
       "       [57, 58,  0, 59]])"
      ]
     },
     "execution_count": 42,
     "metadata": {},
     "output_type": "execute_result"
    }
   ],
   "source": [
    "np.insert( A, where_list, np.zeros((N_particles,1)), axis = 1) "
   ]
  },
  {
   "cell_type": "code",
   "execution_count": 43,
   "metadata": {},
   "outputs": [],
   "source": [
    "if (False):\n",
    "    print(\"Nope\")"
   ]
  },
  {
   "cell_type": "code",
   "execution_count": null,
   "metadata": {},
   "outputs": [],
   "source": []
  }
 ],
 "metadata": {
  "kernelspec": {
   "display_name": "base",
   "language": "python",
   "name": "python3"
  },
  "language_info": {
   "codemirror_mode": {
    "name": "ipython",
    "version": 3
   },
   "file_extension": ".py",
   "mimetype": "text/x-python",
   "name": "python",
   "nbconvert_exporter": "python",
   "pygments_lexer": "ipython3",
   "version": "3.9.13"
  },
  "orig_nbformat": 4
 },
 "nbformat": 4,
 "nbformat_minor": 2
}
