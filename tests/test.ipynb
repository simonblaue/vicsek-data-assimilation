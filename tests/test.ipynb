{
 "cells": [
  {
   "cell_type": "code",
   "execution_count": 2,
   "metadata": {},
   "outputs": [],
   "source": [
    "import numpy as np\n",
    "import matplotlib.pyplot as plt"
   ]
  },
  {
   "cell_type": "code",
   "execution_count": 9,
   "metadata": {},
   "outputs": [
    {
     "data": {
      "text/plain": [
       "array([-0.5, -0.5, -0.5, ..., -0.5, -0.5, -0.5])"
      ]
     },
     "execution_count": 9,
     "metadata": {},
     "output_type": "execute_result"
    }
   ],
   "source": [
    "original_angles = np.random.rand(2000)\n",
    "shifter_angles = np.angle(np.exp(1j *( original_angles + 0.5)))\n",
    "\n",
    "np.angle(np.exp(1j * (original_angles - shifter_angles)))"
   ]
  },
  {
   "cell_type": "code",
   "execution_count": 10,
   "metadata": {},
   "outputs": [
    {
     "name": "stdout",
     "output_type": "stream",
     "text": [
      "0.6680367655525075\n"
     ]
    }
   ],
   "source": [
    "n_ensemble = 2000\n",
    "x_size = 10\n",
    "y_size = 10\n",
    "ensemble = np.random.rand(n_ensemble,361,4)\n",
    "ensemble[:,:,0:2] *= x_size/4\n",
    "ensemble[:,:,0:2] -= x_size/8\n",
    "ensemble[:,:,0:2] = np.mod(ensemble[:,:,0:2], 10)\n",
    "ensemble[:,:,2] = 0.03\n",
    "ensemble[:,:,3] *= np.pi*2\n",
    "original_av = np.angle( np.sum( np.exp(1j* ensemble[::,3])))\n",
    "print(original_av)\n",
    "#ensemble[:,:,3] = np.pi\n",
    "\n",
    "ensemble[:,:,3] = np.angle(np.exp(1j* (ensemble[:,:,3] + 0.5)))"
   ]
  },
  {
   "cell_type": "code",
   "execution_count": 11,
   "metadata": {},
   "outputs": [
    {
     "data": {
      "text/plain": [
       "-0.8315680597501911"
      ]
     },
     "execution_count": 11,
     "metadata": {},
     "output_type": "execute_result"
    }
   ],
   "source": [
    "\n"
   ]
  },
  {
   "cell_type": "code",
   "execution_count": 1563,
   "metadata": {},
   "outputs": [
    {
     "data": {
      "text/plain": [
       "-0.510338781735533"
      ]
     },
     "execution_count": 1563,
     "metadata": {},
     "output_type": "execute_result"
    }
   ],
   "source": [
    "np.angle(np.sum( np.exp(1j* ensemble[:,:,3])))"
   ]
  },
  {
   "cell_type": "code",
   "execution_count": 1564,
   "metadata": {},
   "outputs": [],
   "source": [
    "def periodic_distant_vectors(vectors, x_size, y_size):\n",
    "    \n",
    "    vectors[:,:,0] = np.where(vectors[:,:,0]>x_size/2,vectors[:,:,0]-x_size,vectors[:,:,0])\n",
    "    vectors[:,:,0] = np.where(vectors[:,:,0]<-x_size/2,vectors[:,:,0]+x_size,vectors[:,:,0])\n",
    "    vectors[:,:,1] = np.where(vectors[:,:,1]>y_size/2,vectors[:,:,1]-y_size,vectors[:,:,1])\n",
    "    vectors[:,:,1] = np.where(vectors[:,:,1]<-y_size/2,vectors[:,:,1]+y_size,vectors[:,:,1])\n",
    "    \n",
    "    return vectors"
   ]
  },
  {
   "cell_type": "code",
   "execution_count": 1565,
   "metadata": {},
   "outputs": [],
   "source": [
    "p1 = ensemble[0,:,:]\n",
    "\n",
    "dists = ensemble - p1\n",
    "\n",
    "# apply pbc to dist\n",
    "dists[:,:,0:2] = periodic_distant_vectors(dists[:,:,0:2], x_size,y_size)\n",
    "\n",
    "average = p1 + 1/(n_ensemble) * np.sum(dists, axis=0)\n",
    "\n",
    "average[:,0] = np.mod(average[:,0], x_size)\n",
    "average[:,1] = np.mod(average[:,1], y_size)\n",
    "average[:,3] = np.angle(np.sum( np.exp(1j* ensemble[:,:,3]) ,axis=0))\n"
   ]
  },
  {
   "cell_type": "code",
   "execution_count": 1566,
   "metadata": {},
   "outputs": [
    {
     "data": {
      "text/plain": [
       "-0.02389888455944468"
      ]
     },
     "execution_count": 1566,
     "metadata": {},
     "output_type": "execute_result"
    }
   ],
   "source": [
    "np.angle(np.sum( np.exp(1j* average[:,3] ) ,axis=0))"
   ]
  },
  {
   "cell_type": "code",
   "execution_count": 1567,
   "metadata": {},
   "outputs": [
    {
     "data": {
      "text/plain": [
       "(2000, 361, 4)"
      ]
     },
     "execution_count": 1567,
     "metadata": {},
     "output_type": "execute_result"
    }
   ],
   "source": [
    "dists.shape"
   ]
  },
  {
   "cell_type": "code",
   "execution_count": 1568,
   "metadata": {},
   "outputs": [
    {
     "data": {
      "text/plain": [
       "(361, 4)"
      ]
     },
     "execution_count": 1568,
     "metadata": {},
     "output_type": "execute_result"
    }
   ],
   "source": [
    "average.shape"
   ]
  },
  {
   "cell_type": "code",
   "execution_count": 1569,
   "metadata": {},
   "outputs": [],
   "source": [
    "simple_av = np.mean(ensemble, axis=0)\n"
   ]
  },
  {
   "cell_type": "code",
   "execution_count": 1570,
   "metadata": {},
   "outputs": [
    {
     "data": {
      "image/png": "[encoded data removed]",
      "text/plain": [
       "<Figure size 640x480 with 1 Axes>"
      ]
     },
     "metadata": {},
     "output_type": "display_data"
    }
   ],
   "source": [
    "plt.figure()\n",
    "\n",
    "plt.vlines([0,x_size], 0, y_size, colors='black')\n",
    "plt.hlines([0,y_size], 0, x_size, colors='black')\n",
    "plt.scatter(ensemble[:,0,0],ensemble[:,0,1])\n",
    "plt.scatter(average[0,0], average[0,1], label=\"new_av\")\n",
    "plt.scatter(simple_av[0,0], simple_av[0,1])\n",
    "\n",
    "plt.legend()\n",
    "plt.show()"
   ]
  },
  {
   "cell_type": "code",
   "execution_count": 1571,
   "metadata": {},
   "outputs": [
    {
     "name": "stdout",
     "output_type": "stream",
     "text": [
      "[-2.60624692e+00 -4.02300101e-01 -2.75637225e+00 -2.87334552e+00\n",
      " -9.70989918e-01 -2.53678752e-01 -9.70582261e-01 -7.76254897e-01\n",
      " -9.29383080e-01  2.75998351e+00 -1.33578185e+00  8.51227032e-01\n",
      " -1.68568984e-02  5.32757914e-01  2.70892488e+00 -2.57468756e+00\n",
      " -2.81919093e+00  1.76326285e+00  2.01002531e+00 -1.12913667e+00\n",
      "  4.10813231e-01 -4.23938622e-01 -1.66557473e+00 -2.90697438e+00\n",
      "  2.40976352e+00  8.13770861e-02 -1.46809396e-01 -3.13150741e+00\n",
      "  2.26530529e+00 -2.20807925e+00  3.15485523e-01  2.73071320e+00\n",
      "  1.39389034e+00 -7.61445670e-01 -6.25321945e-01 -1.54486194e-01\n",
      "  2.63948668e-02  3.06904715e+00 -2.87041677e-01  1.59943385e+00\n",
      " -2.79880691e+00  5.15157928e-01 -2.38236444e+00 -3.02644670e-01\n",
      "  8.29626656e-01 -2.54681241e+00  2.06860093e+00  1.99434715e+00\n",
      "  3.10212258e+00 -1.82906523e+00 -1.51986950e+00  1.45288674e+00\n",
      "  2.15460344e+00  2.77761180e+00  1.82639268e+00 -2.72730218e+00\n",
      " -1.46137854e+00  2.32552020e+00 -3.02582376e+00 -1.51503700e+00\n",
      " -3.11369903e+00  1.00466413e+00 -9.10320805e-01 -3.42785016e-01\n",
      " -5.43139915e-01 -1.06561831e+00 -2.43976488e-01  8.74946393e-01\n",
      " -2.42970849e+00  2.65893220e+00 -1.55387330e+00 -1.38960845e+00\n",
      "  1.45209510e+00 -2.94500829e+00 -1.74531000e+00  2.65029672e+00\n",
      "  2.65821658e+00  1.74250576e+00  2.50332618e+00 -6.85452201e-01\n",
      " -1.49804343e+00 -1.81455304e+00 -1.78099813e+00 -1.81837419e+00\n",
      "  2.06408717e+00  2.78817819e+00  1.21568084e+00 -2.96731770e+00\n",
      "  1.82707924e+00  3.06782837e-01 -5.99953509e-01 -8.30867021e-01\n",
      " -9.19681936e-01 -6.26507443e-01  2.01473715e+00  1.61959834e+00\n",
      "  2.71263555e+00  1.84304838e+00 -1.37941524e+00  2.14899785e+00\n",
      "  3.19758533e-01 -4.47196873e-02  2.27534188e+00 -2.34981241e+00\n",
      "  1.78500801e+00 -1.90943665e+00  1.38554917e+00  2.53141725e+00\n",
      " -9.87223335e-01 -1.12280543e+00 -1.36008483e+00  1.34312665e+00\n",
      " -1.14911207e+00 -1.69585236e+00 -9.72560703e-01  2.71164546e-01\n",
      "  4.56653252e-01 -2.47884528e+00  3.51523982e-01 -1.84176218e+00\n",
      "  2.98864562e+00  1.44821669e+00  6.67734191e-01 -9.89677706e-01\n",
      " -6.19434788e-01 -8.39989612e-01 -6.27321188e-02  2.14093003e+00\n",
      "  1.20162233e+00 -1.44582213e+00  1.71907598e+00  1.98090528e+00\n",
      " -2.69837827e+00  6.03810556e-03  2.66351657e+00 -2.57268667e+00\n",
      " -1.75958591e+00 -1.15758588e+00  2.03668688e+00 -9.34824762e-01\n",
      "  6.39205324e-01  1.20231436e+00  3.42866313e-01 -2.87463052e+00\n",
      "  2.29535967e+00 -7.05541649e-01 -2.78177107e+00 -1.65834710e+00\n",
      " -2.39242885e+00 -1.22162615e+00  2.75670804e+00  6.78208018e-01\n",
      "  6.11118841e-01  2.43954855e+00  2.00493514e+00 -9.98884796e-01\n",
      "  2.33064627e+00  1.05882431e+00  2.32873947e+00 -2.74310006e+00\n",
      "  1.69429552e+00 -2.83798039e+00 -1.35837780e+00  7.32625389e-01\n",
      " -1.98429408e+00 -1.79642484e+00  1.12960953e+00  1.58148018e+00\n",
      " -1.56395945e+00 -2.39205041e+00  1.17013585e-01  2.03932533e-02\n",
      " -2.56942273e-01  6.38928644e-01  4.57382967e-01  5.30474491e-01\n",
      " -2.47896199e+00  4.22886515e-01  4.23800687e-01  1.19181243e+00\n",
      "  1.44393411e+00 -4.12592739e-01 -2.64870356e+00 -2.77367287e+00\n",
      "  7.13556961e-01  6.82338625e-01  1.09765492e+00 -3.98372307e-01\n",
      "  2.48760560e-01 -2.13636330e+00  1.19938314e+00 -2.09318749e+00\n",
      " -2.16091485e+00 -2.57134887e+00  2.05316759e+00 -1.10858538e+00\n",
      "  1.72943152e+00  2.28643851e+00  2.01030826e-01 -2.79020001e+00\n",
      "  2.30374365e+00  7.17049954e-01 -3.77102912e-01 -1.39622602e+00\n",
      " -1.38995499e+00 -8.43092929e-02  1.97834219e-01 -2.64408660e+00\n",
      " -1.79492210e+00  2.78780856e-01  2.12197377e+00 -2.06596343e+00\n",
      " -2.01166539e+00 -9.21219946e-01 -3.20941530e-01  1.86729460e+00\n",
      " -2.83924618e+00  1.07479503e+00  9.58811576e-01  5.76265104e-01\n",
      "  8.58950740e-01  2.06792523e-01  2.92993399e+00 -4.66598241e-01\n",
      " -2.74522500e+00  1.54553846e+00  9.94872457e-01  2.37024628e+00\n",
      " -8.93320247e-01  2.05374743e+00  2.80788011e+00  1.92889923e+00\n",
      " -2.17386777e+00 -2.36115082e+00  2.56275845e+00  2.83617307e-01\n",
      "  1.25193196e+00 -1.99594569e+00 -1.01868389e+00 -2.66648399e-01\n",
      " -6.40457997e-01  8.66656020e-01 -3.00359077e+00 -3.09281439e+00\n",
      "  1.09692603e+00  2.87105210e+00  2.71770778e+00 -2.57147033e+00\n",
      "  3.08119714e+00  1.51071364e+00 -1.31655728e+00 -7.24991599e-02\n",
      " -6.28953041e-02  1.94010281e+00  3.13836372e+00 -2.20777522e+00\n",
      " -1.32248317e+00  1.10146739e+00 -3.07918321e+00 -2.57289539e+00\n",
      " -4.70955972e-01  1.96752548e+00  2.19778341e+00 -2.42209560e+00\n",
      "  7.38579110e-01 -1.36840198e+00 -1.37727800e+00 -1.07230053e+00\n",
      " -1.41813061e+00  1.35934638e+00  2.53392325e+00 -2.88684869e+00\n",
      " -6.77981093e-01 -1.52722887e+00  8.36141678e-01 -2.06841969e+00\n",
      " -1.41231064e+00 -4.31540181e-01  2.36109789e-01 -3.20475947e-02\n",
      " -3.07703001e+00  6.80639941e-01 -5.60384366e-01 -9.46888035e-01\n",
      " -3.07549298e+00 -2.25179171e+00 -8.57672351e-01 -3.03555932e+00\n",
      " -2.44595998e-01 -1.32940785e+00  2.93432580e+00 -1.54465783e+00\n",
      "  8.03540867e-01 -1.10639608e+00  2.04192007e+00 -3.49704060e-01\n",
      " -5.78294767e-01  3.10860281e+00  2.65475833e-01  1.67092652e+00\n",
      " -7.34973315e-01  6.42537686e-01 -1.94720112e+00  1.93259846e+00\n",
      "  1.76788570e+00 -2.29913337e+00  1.90481599e-01 -1.37436275e+00\n",
      " -1.72844722e+00  1.18877329e+00 -8.02347622e-01  2.65674791e+00\n",
      "  1.41283309e+00 -6.66145764e-01  3.07011009e+00  2.85721779e+00\n",
      " -6.42064437e-01  2.84417974e+00 -7.70155613e-01 -1.56980288e+00\n",
      "  1.49124384e+00  2.31466563e+00  4.63905384e-01  8.24198095e-01\n",
      " -2.07265476e+00 -1.19857313e+00 -2.25094909e+00  1.48675850e+00\n",
      "  1.58899518e+00  2.48404999e+00 -2.97284780e+00  1.99197325e+00\n",
      "  2.73357225e+00  1.40353835e+00 -1.60491692e+00  8.88704483e-01\n",
      "  8.68701084e-01 -1.11924630e+00  1.99829722e+00 -9.34268162e-01\n",
      " -3.08360019e+00 -1.83227163e+00  1.66422402e+00  1.13629137e-01\n",
      "  2.01121907e+00  2.35833755e+00 -2.02586249e+00  1.03187151e+00\n",
      "  1.75349400e+00 -1.97358852e+00  1.64618621e+00  1.97465044e+00\n",
      " -3.13723017e+00  1.93672487e+00 -2.95830801e+00  5.38548851e-01\n",
      " -6.96814640e-01  1.97470549e+00  2.63615640e+00  2.20474706e-03\n",
      " -2.43507408e-01]\n"
     ]
    }
   ],
   "source": [
    "print(average[:,3])"
   ]
  }
 ],
 "metadata": {
  "kernelspec": {
   "display_name": "base",
   "language": "python",
   "name": "python3"
  },
  "language_info": {
   "codemirror_mode": {
    "name": "ipython",
    "version": 3
   },
   "file_extension": ".py",
   "mimetype": "text/x-python",
   "name": "python",
   "nbconvert_exporter": "python",
   "pygments_lexer": "ipython3",
   "version": "3.9.13"
  },
  "orig_nbformat": 4
 },
 "nbformat": 4,
 "nbformat_minor": 2
}
