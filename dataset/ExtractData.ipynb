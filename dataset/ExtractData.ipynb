{
 "cells": [
  {
   "cell_type": "code",
   "execution_count": 1,
   "id": "cf5afb7e",
   "metadata": {},
   "outputs": [],
   "source": [
    "import h5py\n",
    "import numpy as np"
   ]
  },
  {
   "cell_type": "code",
   "execution_count": 2,
   "id": "ac8868de",
   "metadata": {},
   "outputs": [],
   "source": [
    "f = h5py.File(\"motileparticlesim.jld2\")"
   ]
  },
  {
   "cell_type": "code",
   "execution_count": 3,
   "id": "d850eea7",
   "metadata": {},
   "outputs": [
    {
     "data": {
      "text/plain": [
       "['InPartS',\n",
       " 'domain',\n",
       " 'params',\n",
       " 'pmtype',\n",
       " 'ptctype',\n",
       " 'pttype',\n",
       " 'registrar',\n",
       " 'rng',\n",
       " 'snapshots',\n",
       " 'treehash']"
      ]
     },
     "execution_count": 3,
     "metadata": {},
     "output_type": "execute_result"
    }
   ],
   "source": [
    "list(f.keys())"
   ]
  },
  {
   "cell_type": "code",
   "execution_count": 4,
   "id": "3a7ce71f",
   "metadata": {},
   "outputs": [
    {
     "data": {
      "text/plain": [
       "['_type',\n",
       " 'growthratedistribution',\n",
       " 'growthrateretention',\n",
       " 'inthardnessfactor',\n",
       " 'intmobilityfactor',\n",
       " 'kmemory',\n",
       " 'maxcomp',\n",
       " 'maxlength',\n",
       " 'motility',\n",
       " 'noisestrength',\n",
       " 'radius',\n",
       " 'viscosity',\n",
       " 'youngsmodulus',\n",
       " 'μSattach',\n",
       " 'μSdetach']"
      ]
     },
     "execution_count": 4,
     "metadata": {},
     "output_type": "execute_result"
    }
   ],
   "source": [
    "list(f['params']['1'])"
   ]
  },
  {
   "cell_type": "code",
   "execution_count": 5,
   "id": "8dbec7fd",
   "metadata": {},
   "outputs": [
    {
     "data": {
      "text/plain": [
       "['boundaries', 'size']"
      ]
     },
     "execution_count": 5,
     "metadata": {},
     "output_type": "execute_result"
    }
   ],
   "source": [
    "list(f['domain'])"
   ]
  },
  {
   "cell_type": "code",
   "execution_count": 6,
   "id": "475fdae1",
   "metadata": {},
   "outputs": [
    {
     "data": {
      "text/plain": [
       "[50.0, 50.0]"
      ]
     },
     "execution_count": 6,
     "metadata": {},
     "output_type": "execute_result"
    }
   ],
   "source": [
    "list(f['domain']['size'])"
   ]
  },
  {
   "cell_type": "code",
   "execution_count": 7,
   "id": "447a58bd",
   "metadata": {},
   "outputs": [
    {
     "data": {
      "text/plain": [
       "1001"
      ]
     },
     "execution_count": 7,
     "metadata": {},
     "output_type": "execute_result"
    }
   ],
   "source": [
    "list(f[\"snapshots\"])\n",
    "\n",
    "snaps = f[\"snapshots\"]\n",
    "\n",
    "len(list(snaps))"
   ]
  },
  {
   "cell_type": "code",
   "execution_count": 8,
   "id": "ebbc7142",
   "metadata": {},
   "outputs": [
    {
     "data": {
      "text/plain": [
       "['attached',\n",
       " 'centerpos',\n",
       " 'growthprog',\n",
       " 'growthrate',\n",
       " 'id',\n",
       " 'nodeseparation',\n",
       " 'params',\n",
       " 'φ',\n",
       " '∫Fax']"
      ]
     },
     "execution_count": 8,
     "metadata": {},
     "output_type": "execute_result"
    }
   ],
   "source": [
    "list(snaps['0']['MotileCell{AreaMobility}'])"
   ]
  },
  {
   "cell_type": "code",
   "execution_count": 9,
   "id": "9fe6dec4",
   "metadata": {},
   "outputs": [
    {
     "data": {
      "text/plain": [
       "[1,\n",
       " 1,\n",
       " 1,\n",
       " 1,\n",
       " 1,\n",
       " 1,\n",
       " 1,\n",
       " 1,\n",
       " 1,\n",
       " 1,\n",
       " 1,\n",
       " 1,\n",
       " 1,\n",
       " 1,\n",
       " 1,\n",
       " 1,\n",
       " 1,\n",
       " 1,\n",
       " 1,\n",
       " 1,\n",
       " 1,\n",
       " 1,\n",
       " 1,\n",
       " 1,\n",
       " 1,\n",
       " 1,\n",
       " 1,\n",
       " 1,\n",
       " 1,\n",
       " 1,\n",
       " 1,\n",
       " 1,\n",
       " 1,\n",
       " 1,\n",
       " 1,\n",
       " 1,\n",
       " 1,\n",
       " 1,\n",
       " 1,\n",
       " 1,\n",
       " 1,\n",
       " 1,\n",
       " 1,\n",
       " 1,\n",
       " 1,\n",
       " 1,\n",
       " 1,\n",
       " 1,\n",
       " 1,\n",
       " 1,\n",
       " 1,\n",
       " 1,\n",
       " 1,\n",
       " 1,\n",
       " 1,\n",
       " 1,\n",
       " 1,\n",
       " 1,\n",
       " 1,\n",
       " 1,\n",
       " 1,\n",
       " 1,\n",
       " 1,\n",
       " 1,\n",
       " 1,\n",
       " 1,\n",
       " 1,\n",
       " 1,\n",
       " 1,\n",
       " 1,\n",
       " 1,\n",
       " 1,\n",
       " 1,\n",
       " 1,\n",
       " 1,\n",
       " 1,\n",
       " 1,\n",
       " 1,\n",
       " 1,\n",
       " 1,\n",
       " 1,\n",
       " 1,\n",
       " 1,\n",
       " 1,\n",
       " 1,\n",
       " 1,\n",
       " 1,\n",
       " 1,\n",
       " 1,\n",
       " 1,\n",
       " 1,\n",
       " 1,\n",
       " 1,\n",
       " 1,\n",
       " 1,\n",
       " 1,\n",
       " 1,\n",
       " 1,\n",
       " 1,\n",
       " 1,\n",
       " 1,\n",
       " 1,\n",
       " 1,\n",
       " 1,\n",
       " 1,\n",
       " 1,\n",
       " 1,\n",
       " 1,\n",
       " 1,\n",
       " 1,\n",
       " 1,\n",
       " 1,\n",
       " 1,\n",
       " 1,\n",
       " 1,\n",
       " 1,\n",
       " 1,\n",
       " 1,\n",
       " 1,\n",
       " 1,\n",
       " 1,\n",
       " 1,\n",
       " 1,\n",
       " 1,\n",
       " 1,\n",
       " 1,\n",
       " 1,\n",
       " 1,\n",
       " 1,\n",
       " 1,\n",
       " 1,\n",
       " 1,\n",
       " 1,\n",
       " 1,\n",
       " 1,\n",
       " 1,\n",
       " 1,\n",
       " 1,\n",
       " 1,\n",
       " 1,\n",
       " 1,\n",
       " 1,\n",
       " 1,\n",
       " 1,\n",
       " 1,\n",
       " 1,\n",
       " 1,\n",
       " 1,\n",
       " 1,\n",
       " 1,\n",
       " 1,\n",
       " 1,\n",
       " 1,\n",
       " 1,\n",
       " 1,\n",
       " 1,\n",
       " 1,\n",
       " 1,\n",
       " 1,\n",
       " 1,\n",
       " 1,\n",
       " 1,\n",
       " 1,\n",
       " 1,\n",
       " 1,\n",
       " 1,\n",
       " 1,\n",
       " 1,\n",
       " 1,\n",
       " 1,\n",
       " 1,\n",
       " 1,\n",
       " 1,\n",
       " 1,\n",
       " 1,\n",
       " 1,\n",
       " 1,\n",
       " 1,\n",
       " 1,\n",
       " 1,\n",
       " 1,\n",
       " 1,\n",
       " 1,\n",
       " 1,\n",
       " 1,\n",
       " 1,\n",
       " 1,\n",
       " 1,\n",
       " 1,\n",
       " 1,\n",
       " 1,\n",
       " 1,\n",
       " 1,\n",
       " 1,\n",
       " 1,\n",
       " 1,\n",
       " 1,\n",
       " 1,\n",
       " 1,\n",
       " 1,\n",
       " 1,\n",
       " 1,\n",
       " 1,\n",
       " 1,\n",
       " 1,\n",
       " 1,\n",
       " 1,\n",
       " 1,\n",
       " 1,\n",
       " 1,\n",
       " 1,\n",
       " 1,\n",
       " 1,\n",
       " 1,\n",
       " 1,\n",
       " 1,\n",
       " 1,\n",
       " 1,\n",
       " 1,\n",
       " 1,\n",
       " 1,\n",
       " 1,\n",
       " 1,\n",
       " 1,\n",
       " 1,\n",
       " 1,\n",
       " 1,\n",
       " 1,\n",
       " 1,\n",
       " 1,\n",
       " 1,\n",
       " 1,\n",
       " 1,\n",
       " 1,\n",
       " 1,\n",
       " 1,\n",
       " 1,\n",
       " 1,\n",
       " 1,\n",
       " 1,\n",
       " 1,\n",
       " 1,\n",
       " 1,\n",
       " 1,\n",
       " 1,\n",
       " 1,\n",
       " 1,\n",
       " 1,\n",
       " 1,\n",
       " 1,\n",
       " 1,\n",
       " 1,\n",
       " 1,\n",
       " 1,\n",
       " 1,\n",
       " 1,\n",
       " 1,\n",
       " 1,\n",
       " 1,\n",
       " 1,\n",
       " 1,\n",
       " 1,\n",
       " 1,\n",
       " 1,\n",
       " 1,\n",
       " 1,\n",
       " 1,\n",
       " 1,\n",
       " 1,\n",
       " 1,\n",
       " 1,\n",
       " 1,\n",
       " 1,\n",
       " 1,\n",
       " 1,\n",
       " 1,\n",
       " 1,\n",
       " 1,\n",
       " 1,\n",
       " 1,\n",
       " 1,\n",
       " 1,\n",
       " 1,\n",
       " 1,\n",
       " 1,\n",
       " 1,\n",
       " 1,\n",
       " 1,\n",
       " 1,\n",
       " 1,\n",
       " 1,\n",
       " 1,\n",
       " 1,\n",
       " 1,\n",
       " 1,\n",
       " 1,\n",
       " 1,\n",
       " 1,\n",
       " 1,\n",
       " 1,\n",
       " 1,\n",
       " 1,\n",
       " 1,\n",
       " 1,\n",
       " 1,\n",
       " 1,\n",
       " 1,\n",
       " 1,\n",
       " 1,\n",
       " 1,\n",
       " 1,\n",
       " 1,\n",
       " 1,\n",
       " 1,\n",
       " 1,\n",
       " 1,\n",
       " 1,\n",
       " 1,\n",
       " 1,\n",
       " 1,\n",
       " 1,\n",
       " 1,\n",
       " 1,\n",
       " 1,\n",
       " 1,\n",
       " 1,\n",
       " 1,\n",
       " 1,\n",
       " 1,\n",
       " 1,\n",
       " 1,\n",
       " 1,\n",
       " 1,\n",
       " 1,\n",
       " 1,\n",
       " 1,\n",
       " 1,\n",
       " 1,\n",
       " 1,\n",
       " 1,\n",
       " 1,\n",
       " 1,\n",
       " 1,\n",
       " 1,\n",
       " 1,\n",
       " 1,\n",
       " 1,\n",
       " 1,\n",
       " 1,\n",
       " 1,\n",
       " 1,\n",
       " 1,\n",
       " 1,\n",
       " 1,\n",
       " 1,\n",
       " 1,\n",
       " 1,\n",
       " 1,\n",
       " 1,\n",
       " 1,\n",
       " 1]"
      ]
     },
     "execution_count": 9,
     "metadata": {},
     "output_type": "execute_result"
    }
   ],
   "source": [
    "list(snaps['0']['MotileCell{AreaMobility}']['params'])"
   ]
  },
  {
   "cell_type": "code",
   "execution_count": 10,
   "id": "12f3434d",
   "metadata": {},
   "outputs": [],
   "source": [
    "a = np.array((snaps['1']['MotileCell{AreaMobility}']['centerpos']))\n",
    "b = np.array((snaps['1']['MotileCell{AreaMobility}']['φ']))"
   ]
  },
  {
   "cell_type": "code",
   "execution_count": 11,
   "id": "73ddd8bf",
   "metadata": {},
   "outputs": [
    {
     "name": "stdout",
     "output_type": "stream",
     "text": [
      "(2, 361)\n",
      "(361,)\n"
     ]
    }
   ],
   "source": [
    "print(a.shape)\n",
    "print(b.shape)"
   ]
  },
  {
   "cell_type": "code",
   "execution_count": 13,
   "id": "bf59721c",
   "metadata": {},
   "outputs": [],
   "source": [
    "state_evolution = []\n",
    "\n",
    "for t in range(len(list(snaps))):\n",
    "    pos = np.array((snaps[f'{t}']['MotileCell{AreaMobility}']['centerpos'])).T\n",
    "    n = pos.shape[0]\n",
    "    v = np.expand_dims(np.ones(n) * np.NaN, 1)\n",
    "    phi =np.expand_dims( np.array((snaps['1']['MotileCell{AreaMobility}']['φ'])), 1 )\n",
    "    res = np.hstack((pos,v,phi))\n",
    "    state_evolution.append(res)"
   ]
  },
  {
   "cell_type": "code",
   "execution_count": 14,
   "id": "168ad138",
   "metadata": {},
   "outputs": [
    {
     "name": "stdout",
     "output_type": "stream",
     "text": [
      "(1001, 361, 4)\n"
     ]
    }
   ],
   "source": [
    "a = np.array(state_evolution)\n",
    "print(a.shape)\n",
    "np.save(\"external_states.npy\", a)"
   ]
  },
  {
   "cell_type": "code",
   "execution_count": 21,
   "id": "cfd39dd4",
   "metadata": {},
   "outputs": [
    {
     "data": {
      "text/plain": [
       "array([[[ 1.6       ,  1.6       ,         nan,  3.95429203],\n",
       "        [ 4.2       ,  1.6       ,         nan,  2.82956301],\n",
       "        [ 6.8       ,  1.6       ,         nan,  2.99963755],\n",
       "        ...,\n",
       "        [43.2       , 48.4       ,         nan,  1.55693546],\n",
       "        [45.8       , 48.4       ,         nan,  5.00548914],\n",
       "        [48.4       , 48.4       ,         nan,  4.599041  ]],\n",
       "\n",
       "       [[ 1.46077299,  1.45295549,         nan,  3.95429203],\n",
       "        [ 4.00727823,  1.66216566,         nan,  2.82956301],\n",
       "        [ 6.59953689,  1.62864946,         nan,  2.99963755],\n",
       "        ...,\n",
       "        [43.20280674, 48.60248055,         nan,  1.55693546],\n",
       "        [45.85850661, 48.20613606,         nan,  5.00548914],\n",
       "        [48.37709615, 48.19879944,         nan,  4.599041  ]],\n",
       "\n",
       "       [[ 1.32412425,  1.30863402,         nan,  3.95429203],\n",
       "        [ 3.81812538,  1.7231801 ,         nan,  2.82956301],\n",
       "        [ 6.40278606,  1.65676838,         nan,  2.99963755],\n",
       "        ...,\n",
       "        [43.2055615 , 48.80121146,         nan,  1.55693546],\n",
       "        [45.91592977, 48.0158622 ,         nan,  5.00548914],\n",
       "        [48.35461645, 48.00132482,         nan,  4.599041  ]],\n",
       "\n",
       "       ...,\n",
       "\n",
       "       [[48.77620432, 32.70696447,         nan,  3.95429203],\n",
       "        [ 3.22135507, 30.05740911,         nan,  2.82956301],\n",
       "        [ 4.32512431, 47.82356333,         nan,  2.99963755],\n",
       "        ...,\n",
       "        [ 2.43338343, 39.86490591,         nan,  1.55693546],\n",
       "        [ 5.13937705, 13.59498872,         nan,  5.00548914],\n",
       "        [41.52089767, 21.89313271,         nan,  4.599041  ]],\n",
       "\n",
       "       [[48.69243066, 32.73355962,         nan,  3.95429203],\n",
       "        [ 3.04199893, 29.96545529,         nan,  2.82956301],\n",
       "        [ 4.46902255, 47.70312975,         nan,  2.99963755],\n",
       "        ...,\n",
       "        [ 2.33067244, 39.8284241 ,         nan,  1.55693546],\n",
       "        [ 5.05297902, 13.71263449,         nan,  5.00548914],\n",
       "        [41.66650111, 21.79198035,         nan,  4.599041  ]],\n",
       "\n",
       "       [[48.58368536, 32.75035071,         nan,  3.95429203],\n",
       "        [ 2.8639093 , 29.87415081,         nan,  2.82956301],\n",
       "        [ 4.61696351, 47.56612274,         nan,  2.99963755],\n",
       "        ...,\n",
       "        [ 2.19590585, 39.77946522,         nan,  1.55693546],\n",
       "        [ 4.90468157, 13.82517371,         nan,  5.00548914],\n",
       "        [41.82306908, 21.69040095,         nan,  4.599041  ]]])"
      ]
     },
     "execution_count": 21,
     "metadata": {},
     "output_type": "execute_result"
    }
   ],
   "source": [
    "a"
   ]
  },
  {
   "cell_type": "code",
   "execution_count": null,
   "id": "08c43f0e",
   "metadata": {},
   "outputs": [],
   "source": []
  }
 ],
 "metadata": {
  "kernelspec": {
   "display_name": "base",
   "language": "python",
   "name": "python3"
  },
  "language_info": {
   "codemirror_mode": {
    "name": "ipython",
    "version": 3
   },
   "file_extension": ".py",
   "mimetype": "text/x-python",
   "name": "python",
   "nbconvert_exporter": "python",
   "pygments_lexer": "ipython3",
   "version": "3.9.13"
  }
 },
 "nbformat": 4,
 "nbformat_minor": 5
}
